{
 "cells": [
  {
   "cell_type": "markdown",
   "metadata": {
    "slideshow": {
     "slide_type": "slide"
    }
   },
   "source": [
    "# Model 001\n",
    "## Simple classification with deep LSTM network\n",
    "\n",
    "* 5 min data\n",
    "* Trained on 1 month of data\n",
    "* Test for 1 week\n",
    "    * The idea is to retrain every [1 week]?\n",
    "* For right now, use a simple classification model to test whether the price $X_{t+1}$ is going to be higher, equal, or less than $X_t$\n",
    "    * Ultimately, this needs to be improved so that the model considers whether the new price will exceed the spread, but that will be used in a future model\n",
    "    \n",
    "    \n",
    "#### Some ideas for future models\n",
    "* incorporate more variations on the resampling\n",
    "    * for example, look at the max and min bid/ask prices over each interval to assess worst case and best case scenarios"
   ]
  },
  {
   "cell_type": "markdown",
   "metadata": {},
   "source": [
    "## Step 1 -- import necessary libraries"
   ]
  },
  {
   "cell_type": "code",
   "execution_count": 122,
   "metadata": {},
   "outputs": [],
   "source": [
    "from math import sin\n",
    "from math import pi\n",
    "from math import exp\n",
    "from random import random\n",
    "from random import randint\n",
    "from random import uniform\n",
    "from numpy import array\n",
    "%matplotlib inline\n",
    "from matplotlib import pyplot as plt\n",
    "from tensorflow.keras.models import Sequential\n",
    "from tensorflow.keras.layers import LSTM\n",
    "from tensorflow.keras.layers import Dense\n",
    "from tensorflow.keras.layers import Bidirectional\n",
    "from tensorflow.keras.layers import TimeDistributed\n",
    "import pandas as pd\n",
    "import seaborn as sns"
   ]
  },
  {
   "cell_type": "markdown",
   "metadata": {},
   "source": [
    "# 2 - Import the data from csv file\n",
    "\n",
    "The data is saved as a csv file.  Source data file is a parameter specified below, which allows it to be defined as required (and used with papermill, if desired)\n",
    "\n",
    "This code expects that the datafile have 3 fields - datetime, bid, ask.  The format of the datetime is specific:\n",
    "YYYY MM DD HH MI SE US\n",
    "where:\n",
    "* YYYY: year\n",
    "* MM: padded month\n",
    "* DD: padded day of month\n",
    "* HH: padded 24h hour of day\n",
    "* MI: padded minutes\n",
    "* SE: padded seconds \n",
    "* US: padded microseconds\n"
   ]
  },
  {
   "cell_type": "markdown",
   "metadata": {},
   "source": [
    "## 2.1 Specify the path of the source data"
   ]
  },
  {
   "cell_type": "code",
   "execution_count": 2,
   "metadata": {},
   "outputs": [],
   "source": [
    "src = '/var/local/foresight/timeseries/EURGBP-2016-01.pp1'"
   ]
  },
  {
   "cell_type": "markdown",
   "metadata": {},
   "source": [
    "## 2.2 Import the data\n",
    "\n",
    "1. Load the data into a dataframe\n",
    "2. Specify the column names\n",
    "3. Convert the date field into the correct datetime64 object"
   ]
  },
  {
   "cell_type": "code",
   "execution_count": 46,
   "metadata": {},
   "outputs": [],
   "source": [
    "data_raw = pd.read_csv(src)\n",
    "data_raw.columns = ['date', 'bid', 'ask']\n",
    "data_raw['date'] = pd.to_datetime(data_raw['date'], format=\"%Y %m %d %H %M %S %f\")\n",
    "data_raw.set_index('date', inplace=True)"
   ]
  },
  {
   "cell_type": "markdown",
   "metadata": {},
   "source": [
    "### 2.2.1 Add new field with calculated spread"
   ]
  },
  {
   "cell_type": "code",
   "execution_count": 47,
   "metadata": {},
   "outputs": [],
   "source": [
    "data_raw['spread'] = data_raw['ask' ] - data_raw['bid']"
   ]
  },
  {
   "cell_type": "code",
   "execution_count": 48,
   "metadata": {},
   "outputs": [
    {
     "name": "stdout",
     "output_type": "stream",
     "text": [
      "                                bid      ask   spread\n",
      "date                                                 \n",
      "2016-01-04 00:00:01.000353  0.73643  0.73651  0.00008\n",
      "2016-01-04 00:00:01.000471  0.73641  0.73651  0.00010\n",
      "2016-01-04 00:00:01.000648  0.73641  0.73652  0.00011\n",
      "2016-01-04 00:00:01.000775  0.73641  0.73651  0.00010\n",
      "2016-01-04 00:00:02.000429  0.73641  0.73652  0.00011\n",
      "2016-01-04 00:00:02.000993  0.73643  0.73652  0.00009\n",
      "2016-01-04 00:00:02.000995  0.73643  0.73651  0.00008\n",
      "2016-01-04 00:00:02.000997  0.73641  0.73651  0.00010\n",
      "2016-01-04 00:00:03.000198  0.73641  0.73649  0.00008\n",
      "2016-01-04 00:00:04.000740  0.73641  0.73654  0.00013\n"
     ]
    }
   ],
   "source": [
    "print(data_raw[:10])"
   ]
  },
  {
   "cell_type": "markdown",
   "metadata": {},
   "source": [
    "### 2.2.2 Remove duplicate indices"
   ]
  },
  {
   "cell_type": "code",
   "execution_count": 51,
   "metadata": {},
   "outputs": [
    {
     "name": "stdout",
     "output_type": "stream",
     "text": [
      "                                bid      ask   spread\n",
      "date                                                 \n",
      "2016-01-04 00:00:01.000353  0.73643  0.73651  0.00008\n",
      "2016-01-04 00:00:01.000471  0.73641  0.73651  0.00010\n",
      "2016-01-04 00:00:01.000648  0.73641  0.73652  0.00011\n",
      "2016-01-04 00:00:01.000775  0.73641  0.73651  0.00010\n",
      "2016-01-04 00:00:02.000429  0.73641  0.73652  0.00011\n",
      "2016-01-04 00:00:02.000993  0.73643  0.73652  0.00009\n",
      "2016-01-04 00:00:02.000995  0.73643  0.73651  0.00008\n",
      "2016-01-04 00:00:02.000997  0.73641  0.73651  0.00010\n",
      "2016-01-04 00:00:03.000198  0.73641  0.73649  0.00008\n",
      "2016-01-04 00:00:04.000740  0.73641  0.73654  0.00013\n"
     ]
    }
   ],
   "source": [
    "df1 = data_raw[~data_raw.index.duplicated()]\n",
    "print(df1.head(10))"
   ]
  },
  {
   "cell_type": "markdown",
   "metadata": {},
   "source": [
    "## 2.3 Resample the data into 5 minute intervals\n",
    "\n",
    "Create multiple versions of the data:\n",
    "* forward fill\n",
    "* ~~backward fill~~\n",
    "* ~~interpolate~~\n",
    "* nearest"
   ]
  },
  {
   "cell_type": "code",
   "execution_count": 87,
   "metadata": {},
   "outputs": [],
   "source": [
    "df2a = df1.resample('5T').bfill()\n",
    "df2d = df1.resample('5T').nearest()"
   ]
  },
  {
   "cell_type": "markdown",
   "metadata": {},
   "source": [
    "### 2.3.1 Extract the largest spreads during each period"
   ]
  },
  {
   "cell_type": "code",
   "execution_count": 89,
   "metadata": {},
   "outputs": [
    {
     "name": "stdout",
     "output_type": "stream",
     "text": [
      "date\n",
      "2016-01-04 00:00:00    0.00013\n",
      "2016-01-04 00:05:00    0.00012\n",
      "2016-01-04 00:10:00    0.00013\n",
      "2016-01-04 00:15:00    0.00013\n",
      "2016-01-04 00:20:00    0.00013\n",
      "2016-01-04 00:25:00    0.00013\n",
      "2016-01-04 00:30:00    0.00015\n",
      "2016-01-04 00:35:00    0.00012\n",
      "2016-01-04 00:40:00    0.00011\n",
      "2016-01-04 00:45:00    0.00011\n",
      "Freq: 5T, Name: spread, dtype: float64\n"
     ]
    }
   ],
   "source": [
    "max_spreads = df1.resample('5T').max()['spread']\n",
    "print(max_spreads.head(10))"
   ]
  },
  {
   "cell_type": "markdown",
   "metadata": {},
   "source": [
    "## 2.4 Difference the data \n",
    "Get absolute differences of the data.  Drop the first datum since this will necessarily be NaN"
   ]
  },
  {
   "cell_type": "code",
   "execution_count": 80,
   "metadata": {},
   "outputs": [],
   "source": [
    "ddf2a = df2a.diff()[1:]\n",
    "#ddf2b = df2b.diff()[1:]\n",
    "#ddf2c = df2c.diff()[1:]\n",
    "ddf2d = df2d.diff()[1:]"
   ]
  },
  {
   "cell_type": "markdown",
   "metadata": {},
   "source": [
    "This will produce output similar to:"
   ]
  },
  {
   "cell_type": "code",
   "execution_count": 81,
   "metadata": {},
   "outputs": [
    {
     "name": "stdout",
     "output_type": "stream",
     "text": [
      "                         bid      ask   spread\n",
      "date                                          \n",
      "2016-01-04 00:05:00  0.00010  0.00006 -0.00004\n",
      "2016-01-04 00:10:00 -0.00002  0.00002  0.00004\n",
      "2016-01-04 00:15:00 -0.00003 -0.00005 -0.00002\n",
      "                         bid      ask   spread\n",
      "date                                          \n",
      "2016-01-04 00:05:00  0.00010  0.00006 -0.00004\n",
      "2016-01-04 00:10:00 -0.00002  0.00000  0.00002\n",
      "2016-01-04 00:15:00 -0.00003 -0.00003  0.00000\n"
     ]
    }
   ],
   "source": [
    "print(ddf2a.head(3))\n",
    "#print(ddf2b.head(3))\n",
    "#print(ddf2c.head(3))\n",
    "print(ddf2d.head(3))"
   ]
  },
  {
   "cell_type": "code",
   "execution_count": 124,
   "metadata": {},
   "outputs": [
    {
     "data": {
      "image/png": "[encoded data removed]",
      "text/plain": [
       "<Figure size 432x288 with 1 Axes>"
      ]
     },
     "metadata": {
      "needs_background": "light"
     },
     "output_type": "display_data"
    }
   ],
   "source": [
    "#sns.distplot(ddf2a['bid'], kde=False, rug=False)\n",
    "sns.distplot(ddf2d['bid'], kde=False, rug=False);\n"
   ]
  },
  {
   "cell_type": "code",
   "execution_count": 119,
   "metadata": {},
   "outputs": [
    {
     "data": {
      "text/plain": [
       "<matplotlib.axes._subplots.AxesSubplot at 0x7fdd0e7c9cd0>"
      ]
     },
     "execution_count": 119,
     "metadata": {},
     "output_type": "execute_result"
    },
    {
     "data": {
      "image/png": "[encoded data removed]",
      "text/plain": [
       "<Figure size 432x288 with 1 Axes>"
      ]
     },
     "metadata": {
      "needs_background": "light"
     },
     "output_type": "display_data"
    }
   ],
   "source": [
    "sns.distplot(ddf2d['spread'], kde=False, rug=True)"
   ]
  },
  {
   "cell_type": "markdown",
   "metadata": {},
   "source": [
    "### 2.4.1 Replace the spreads in the differenced data with corresponding maximum spreads during the period\n",
    "\n",
    "Shift the spreads down by 1 "
   ]
  },
  {
   "cell_type": "code",
   "execution_count": 93,
   "metadata": {},
   "outputs": [
    {
     "name": "stdout",
     "output_type": "stream",
     "text": [
      "                         bid      ask   spread\n",
      "date                                          \n",
      "2016-01-04 00:05:00  0.00010  0.00006  0.00012\n",
      "2016-01-04 00:10:00 -0.00002  0.00002  0.00013\n",
      "2016-01-04 00:15:00 -0.00003 -0.00005  0.00013\n",
      "2016-01-04 00:20:00 -0.00007 -0.00007  0.00013\n",
      "2016-01-04 00:25:00 -0.00003 -0.00001  0.00013\n",
      "2016-01-04 00:30:00 -0.00017 -0.00014  0.00015\n",
      "2016-01-04 00:35:00  0.00029  0.00029  0.00012\n",
      "2016-01-04 00:40:00 -0.00002 -0.00007  0.00011\n",
      "2016-01-04 00:45:00 -0.00012 -0.00010  0.00011\n",
      "2016-01-04 00:50:00  0.00000  0.00002  0.00011\n"
     ]
    }
   ],
   "source": [
    "ddf2a1 = ddf2a\n",
    "ddf2a1['spread'] = max_spreads#.shift()\n",
    "print(ddf2a1.head(10))"
   ]
  },
  {
   "cell_type": "code",
   "execution_count": 116,
   "metadata": {},
   "outputs": [
    {
     "data": {
      "text/plain": [
       "count    5652.000000\n",
       "mean        0.000142\n",
       "std         0.000116\n",
       "min         0.000080\n",
       "0%          0.000080\n",
       "5%          0.000100\n",
       "10%         0.000110\n",
       "15.0%       0.000110\n",
       "20%         0.000110\n",
       "25%         0.000110\n",
       "30.0%       0.000110\n",
       "35%         0.000110\n",
       "40%         0.000120\n",
       "45%         0.000120\n",
       "50%         0.000120\n",
       "55.0%       0.000130\n",
       "60.0%       0.000130\n",
       "65%         0.000130\n",
       "70%         0.000130\n",
       "75%         0.000130\n",
       "80%         0.000140\n",
       "85.0%       0.000150\n",
       "90%         0.000160\n",
       "95%         0.000230\n",
       "max         0.003770\n",
       "Name: spread, dtype: float64"
      ]
     },
     "execution_count": 116,
     "metadata": {},
     "output_type": "execute_result"
    },
    {
     "data": {
      "image/png": "[encoded data removed]",
      "text/plain": [
       "<Figure size 432x288 with 1 Axes>"
      ]
     },
     "metadata": {
      "needs_background": "light"
     },
     "output_type": "display_data"
    }
   ],
   "source": [
    "#print(max_spreads.hist(bins=20))\n",
    "sns.distplot(max_spreads, bins=20, kde=False, rug=True)\n",
    "max_spreads.describe([.05 * x for x in range(20)])"
   ]
  },
  {
   "cell_type": "code",
   "execution_count": 100,
   "metadata": {},
   "outputs": [
    {
     "name": "stdout",
     "output_type": "stream",
     "text": [
      "3373  out of  7451  equalling  45.2690913971279 %\n"
     ]
    }
   ],
   "source": [
    "gains = ddf2a1[abs(ddf2a1['bid']) > ddf2a1['spread']]\n",
    "print(gains.shape[0], ' out of ', ddf2a1.shape[0], ' equalling ', gains.shape[0]/ddf2a1.shape[0]/.01, '%')"
   ]
  }
 ],
 "metadata": {
  "kernelspec": {
   "display_name": "Python 3",
   "language": "python",
   "name": "python3"
  },
  "language_info": {
   "codemirror_mode": {
    "name": "ipython",
    "version": 3
   },
   "file_extension": ".py",
   "mimetype": "text/x-python",
   "name": "python",
   "nbconvert_exporter": "python",
   "pygments_lexer": "ipython3",
   "version": "3.7.6"
  }
 },
 "nbformat": 4,
 "nbformat_minor": 4
}
