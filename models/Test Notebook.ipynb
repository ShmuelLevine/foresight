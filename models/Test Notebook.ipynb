{
 "cells": [
  {
   "cell_type": "code",
   "execution_count": 116,
   "metadata": {},
   "outputs": [
    {
     "data": {
      "text/plain": [
       "<module 'foresight.model' from '/var/local/foresight/pymodules/foresight/model.py'>"
      ]
     },
     "execution_count": 116,
     "metadata": {},
     "output_type": "execute_result"
    }
   ],
   "source": [
    "import importlib\n",
    "import foresight as fx\n",
    "import foresight.model\n",
    "importlib.reload(foresight.backtesting)\n",
    "importlib.reload(foresight.model)"
   ]
  },
  {
   "cell_type": "code",
   "execution_count": 117,
   "metadata": {},
   "outputs": [],
   "source": [
    "import pandas as pd"
   ]
  },
  {
   "cell_type": "code",
   "execution_count": 119,
   "metadata": {},
   "outputs": [
    {
     "name": "stdout",
     "output_type": "stream",
     "text": [
      "Testing exceptions...\n",
      "model = None\n",
      " 'model' must be an instance of tensorflow.keras.Model\n",
      "model = int\n",
      " 'model' must be an instance of tensorflow.keras.Model\n",
      "data = None\n",
      "'data' must be an instance of numpy.array\n",
      "data = string\n",
      "'data' must be an instance of numpy.array\n",
      "data = int\n",
      "'data' must be an instance of numpy.array\n",
      "data_freq = int\n",
      "'data_freq' must be an instance of pandas.Timedelta \n",
      "This one should work!\n",
      "Indeed it did!\n",
      "transform not function object\n",
      "data_transform must either be a function object or None\n",
      "transform is function object\n",
      "This also worked!\n"
     ]
    }
   ],
   "source": [
    "from tensorflow.keras import Model, Sequential\n",
    "from numpy import array as np_arr\n",
    "from pandas import Timedelta as TD\n",
    "\n",
    "print('Testing exceptions...')\n",
    "try:\n",
    "    print('model = None')\n",
    "    b1 = fx.model.Model(None, None, None)\n",
    "except TypeError as x:\n",
    "    print(x)\n",
    "    \n",
    "try:\n",
    "    print('model = int')\n",
    "    b1 = fx.model.Model(5, None, None)\n",
    "except TypeError as x:\n",
    "    print(x)\n",
    "\n",
    "try:\n",
    "    print('data = None')\n",
    "    b1 = fx.model.Model(Sequential(), None, None)\n",
    "except TypeError as x:\n",
    "    print(x)\n",
    "    \n",
    "try:\n",
    "    print('data = string')\n",
    "    b1 = fx.model.Model(Sequential(), 'None', None)\n",
    "except TypeError as x:\n",
    "    print(x)\n",
    "    \n",
    "try:\n",
    "    print('data = int')\n",
    "    b1 = fx.model.Model(Sequential(), 42, None)\n",
    "except TypeError as x:\n",
    "    print(x)    \n",
    "    \n",
    "try:\n",
    "    print('data_freq = int')\n",
    "    b1 = fx.model.Model(Sequential(), np_arr([0]), None)\n",
    "except TypeError as x:\n",
    "    print(x)\n",
    "\n",
    "print('This one should work!')\n",
    "try:\n",
    "    b1 = fx.model.Model(Sequential(), np_arr([0]), TD('1D'))\n",
    "except:\n",
    "    pass\n",
    "else:\n",
    "    print('Indeed it did!')\n",
    "\n",
    "try:\n",
    "    print('transform not function object')\n",
    "    b1 = fx.model.Model(Sequential(), np_arr([0]), TD('1D'), 25)\n",
    "except TypeError as x:\n",
    "    print(x)\n",
    "try:\n",
    "    print('transform is function object')\n",
    "    f = lambda x: \"moo-haha\"\n",
    "    b1 = fx.model.Model(Sequential(), np_arr([0]), TD('1D'), f)\n",
    "except TypeError as x:\n",
    "    print(x)\n",
    "else:\n",
    "    print('This also worked!')"
   ]
  },
  {
   "cell_type": "code",
   "execution_count": 107,
   "metadata": {},
   "outputs": [
    {
     "ename": "TypeError",
     "evalue": "model: Must be type foresight.model.Model",
     "output_type": "error",
     "traceback": [
      "\u001b[0;31m---------------------------------------------------------------------------\u001b[0m",
      "\u001b[0;31mTypeError\u001b[0m                                 Traceback (most recent call last)",
      "\u001b[0;32m<ipython-input-107-4627851526ea>\u001b[0m in \u001b[0;36m<module>\u001b[0;34m\u001b[0m\n\u001b[1;32m      1\u001b[0m \u001b[0;32mfrom\u001b[0m \u001b[0mpandas\u001b[0m \u001b[0;32mimport\u001b[0m \u001b[0mTimedelta\u001b[0m \u001b[0;32mas\u001b[0m \u001b[0mTD\u001b[0m\u001b[0;34m\u001b[0m\u001b[0;34m\u001b[0m\u001b[0m\n\u001b[0;32m----> 2\u001b[0;31m \u001b[0mbacktester\u001b[0m \u001b[0;34m=\u001b[0m \u001b[0mfx\u001b[0m\u001b[0;34m.\u001b[0m\u001b[0mbacktesting\u001b[0m\u001b[0;34m.\u001b[0m\u001b[0mBacktester\u001b[0m\u001b[0;34m(\u001b[0m\u001b[0;32mNone\u001b[0m\u001b[0;34m,\u001b[0m \u001b[0mdata_freq\u001b[0m \u001b[0;34m=\u001b[0m \u001b[0mTD\u001b[0m\u001b[0;34m(\u001b[0m\u001b[0;34m'5T'\u001b[0m\u001b[0;34m)\u001b[0m\u001b[0;34m,\u001b[0m \u001b[0mdata_transform\u001b[0m \u001b[0;34m=\u001b[0m \u001b[0;32mNone\u001b[0m\u001b[0;34m,\u001b[0m \u001b[0mtrading_rules\u001b[0m \u001b[0;34m=\u001b[0m \u001b[0;32mNone\u001b[0m\u001b[0;34m,\u001b[0m \u001b[0mretraining_freq\u001b[0m \u001b[0;34m=\u001b[0m \u001b[0mTD\u001b[0m\u001b[0;34m(\u001b[0m\u001b[0;34m'1W'\u001b[0m\u001b[0;34m)\u001b[0m\u001b[0;34m)\u001b[0m\u001b[0;34m\u001b[0m\u001b[0;34m\u001b[0m\u001b[0m\n\u001b[0m",
      "\u001b[0;32m/var/local/foresight/pymodules/foresight/backtesting.py\u001b[0m in \u001b[0;36m__init__\u001b[0;34m(self, model, data_freq, data_transform, trading_rules, retraining_freq, initial_money)\u001b[0m\n\u001b[1;32m     29\u001b[0m \u001b[0;34m\u001b[0m\u001b[0m\n\u001b[1;32m     30\u001b[0m         \u001b[0;32mif\u001b[0m \u001b[0mmodel\u001b[0m \u001b[0;32mis\u001b[0m \u001b[0;32mNone\u001b[0m \u001b[0;32mor\u001b[0m \u001b[0;32mnot\u001b[0m \u001b[0misinstance\u001b[0m\u001b[0;34m(\u001b[0m\u001b[0mmodel\u001b[0m\u001b[0;34m,\u001b[0m\u001b[0mfx_Model\u001b[0m\u001b[0;34m)\u001b[0m\u001b[0;34m:\u001b[0m\u001b[0;34m\u001b[0m\u001b[0;34m\u001b[0m\u001b[0m\n\u001b[0;32m---> 31\u001b[0;31m             \u001b[0;32mraise\u001b[0m \u001b[0mTypeError\u001b[0m\u001b[0;34m(\u001b[0m\u001b[0;34m'model: Must be type foresight.model.Model'\u001b[0m\u001b[0;34m)\u001b[0m\u001b[0;34m\u001b[0m\u001b[0;34m\u001b[0m\u001b[0m\n\u001b[0m\u001b[1;32m     32\u001b[0m         \u001b[0mself\u001b[0m\u001b[0;34m.\u001b[0m\u001b[0mmodel\u001b[0m \u001b[0;34m=\u001b[0m \u001b[0mmodel\u001b[0m\u001b[0;34m\u001b[0m\u001b[0;34m\u001b[0m\u001b[0m\n\u001b[1;32m     33\u001b[0m \u001b[0;31m#        self.data_transform = data_transform\u001b[0m\u001b[0;34m\u001b[0m\u001b[0;34m\u001b[0m\u001b[0;34m\u001b[0m\u001b[0m\n",
      "\u001b[0;31mTypeError\u001b[0m: model: Must be type foresight.model.Model"
     ]
    }
   ],
   "source": [
    "from pandas import Timedelta as TD\n",
    "backtester = fx.backtesting.Backtester(None, data_freq = TD('5T'), data_transform = None, trading_rules = None, retraining_freq = TD('1W'))\n"
   ]
  },
  {
   "cell_type": "code",
   "execution_count": null,
   "metadata": {},
   "outputs": [],
   "source": []
  }
 ],
 "metadata": {
  "kernelspec": {
   "display_name": "Python 3",
   "language": "python",
   "name": "python3"
  },
  "language_info": {
   "codemirror_mode": {
    "name": "ipython",
    "version": 3
   },
   "file_extension": ".py",
   "mimetype": "text/x-python",
   "name": "python",
   "nbconvert_exporter": "python",
   "pygments_lexer": "ipython3",
   "version": "3.7.6"
  }
 },
 "nbformat": 4,
 "nbformat_minor": 4
}
