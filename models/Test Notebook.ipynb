{
 "cells": [
  {
   "cell_type": "code",
   "execution_count": 5,
   "metadata": {},
   "outputs": [
    {
     "data": {
      "text/plain": [
       "<module 'foresight' from '/var/local/foresight/pymodules/foresight/__init__.py'>"
      ]
     },
     "execution_count": 5,
     "metadata": {},
     "output_type": "execute_result"
    }
   ],
   "source": [
    "import importlib\n",
    "import foresight as fx\n",
    "import foresight.model\n",
    "import foresight.backtesting\n",
    "#import foresight.data_functions\n",
    "importlib.reload(foresight.backtesting)\n",
    "importlib.reload(foresight.model)\n",
    "#importlib.reload(foresight.data_functions)\n",
    "importlib.reload(foresight)"
   ]
  },
  {
   "cell_type": "code",
   "execution_count": 2,
   "metadata": {},
   "outputs": [],
   "source": [
    "import pandas as pd"
   ]
  },
  {
   "cell_type": "code",
   "execution_count": 3,
   "metadata": {},
   "outputs": [
    {
     "name": "stdout",
     "output_type": "stream",
     "text": [
      "Restarting every 2016.0 datapoints\n",
      "New backtester created!!\n"
     ]
    }
   ],
   "source": [
    "from pandas import Timedelta as TD\n",
    "from tensorflow.keras import Sequential, Model\n",
    "from numpy import ndarray as np_arr\n",
    "model_ = fx.model.Model(Sequential(), np_arr([0]), TD('5T'), seq_len = 30)\n",
    "backtester = fx.backtesting.Backtester(model = model_, trading_rules = None, retraining_freq = TD('1W'))\n"
   ]
  },
  {
   "cell_type": "code",
   "execution_count": null,
   "metadata": {},
   "outputs": [],
   "source": []
  }
 ],
 "metadata": {
  "kernelspec": {
   "display_name": "Python 3",
   "language": "python",
   "name": "python3"
  },
  "language_info": {
   "codemirror_mode": {
    "name": "ipython",
    "version": 3
   },
   "file_extension": ".py",
   "mimetype": "text/x-python",
   "name": "python",
   "nbconvert_exporter": "python",
   "pygments_lexer": "ipython3",
   "version": "3.7.6"
  }
 },
 "nbformat": 4,
 "nbformat_minor": 4
}
