{
 "cells": [
  {
   "cell_type": "markdown",
   "metadata": {},
   "source": [
    "#  Various experiments with keras / tensorflow"
   ]
  },
  {
   "cell_type": "markdown",
   "metadata": {},
   "source": [
    "This notebook uses sample code from the book _LTSM Networks with Python_.  It is intended for the purpose of better understanding the implementation of the networks so that they can be adapted into my own code.\n",
    "    "
   ]
  },
  {
   "cell_type": "markdown",
   "metadata": {},
   "source": [
    "## Example 8.2 Moving Square Video Prediction Problem"
   ]
  },
  {
   "cell_type": "code",
   "execution_count": null,
   "metadata": {},
   "outputs": [
    {
     "name": "stdout",
     "output_type": "stream",
     "text": [
      "Model: \"sequential\"\n",
      "_________________________________________________________________\n",
      "Layer (type)                 Output Shape              Param #   \n",
      "=================================================================\n",
      "time_distributed (TimeDistri (None, None, 49, 49, 2)   10        \n",
      "_________________________________________________________________\n",
      "time_distributed_1 (TimeDist (None, None, 24, 24, 2)   0         \n",
      "_________________________________________________________________\n",
      "time_distributed_2 (TimeDist (None, None, 1152)        0         \n",
      "_________________________________________________________________\n",
      "lstm (LSTM)                  (None, 50)                240600    \n",
      "_________________________________________________________________\n",
      "dense (Dense)                (None, 1)                 51        \n",
      "=================================================================\n",
      "Total params: 240,661\n",
      "Trainable params: 240,661\n",
      "Non-trainable params: 0\n",
      "_________________________________________________________________\n",
      "None\n",
      "Train on 5000 samples\n"
     ]
    }
   ],
   "source": [
    "from random import random\n",
    "from random import randint\n",
    "from numpy import array\n",
    "from numpy import zeros\n",
    "from tensorflow.keras.models import Sequential\n",
    "from tensorflow.keras.layers import Conv2D\n",
    "from tensorflow.keras.layers import MaxPooling2D\n",
    "from tensorflow.keras.layers import LSTM\n",
    "from tensorflow.keras.layers import Dense\n",
    "from tensorflow.keras.layers import Flatten\n",
    "from tensorflow.keras.layers import TimeDistributed\n",
    "\n",
    "\n",
    "# generate the next frame in the sequence\n",
    "def next_frame(last_step, last_frame, column):\n",
    " # define the scope of the next step\n",
    " lower = max(0, last_step-1)\n",
    " upper = min(last_frame.shape[0]-1, last_step+1)\n",
    " # choose the row index for the next step\n",
    " step = randint(lower, upper)\n",
    " # copy the prior frame\n",
    " frame = last_frame.copy()\n",
    " # add the new step\n",
    " frame[step, column] = 1\n",
    " return frame, step\n",
    "\n",
    "\n",
    "# generate a sequence of frames of a dot moving across an image\n",
    "def build_frames(size):\n",
    " frames = list()\n",
    " # create the first frame\n",
    " frame = zeros((size,size))\n",
    " step = randint(0, size-1)\n",
    " # decide if we are heading left or right\n",
    " right = 1 if random() < 0.5 else 0\n",
    " col = 0 if right else size-1\n",
    " frame[step, col] = 1\n",
    " frames.append(frame)\n",
    " # create all remaining frames\n",
    " for i in range(1, size):\n",
    "  col = i if right else size-1-i\n",
    "  frame, step = next_frame(step, frame, col)\n",
    "  frames.append(frame)\n",
    " return frames, right\n",
    "\n",
    "\n",
    "# generate multiple sequences of frames and reshape for network input\n",
    "def generate_examples(size, n_patterns):\n",
    " X, y = list(), list()\n",
    " for _ in range(n_patterns):\n",
    "  frames, right = build_frames(size)\n",
    "  X.append(frames)\n",
    "  y.append(right)\n",
    " # resize as [samples, timesteps, width, height, channels]\n",
    " X = array(X).reshape(n_patterns, size, size, size, 1)\n",
    " y = array(y).reshape(n_patterns, 1)\n",
    " return X, y\n",
    "\n",
    "\n",
    "# configure problem\n",
    "size = 50\n",
    "\n",
    "# define the model\n",
    "model = Sequential()\n",
    "model.add(TimeDistributed(Conv2D(2, (2,2), activation= 'relu' ),\n",
    "    input_shape=(None,size,size,1)))\n",
    "model.add(TimeDistributed(MaxPooling2D(pool_size=(2, 2))))\n",
    "model.add(TimeDistributed(Flatten()))\n",
    "model.add(LSTM(50))\n",
    "model.add(Dense(1, activation= 'sigmoid' ))\n",
    "model.compile(loss= 'binary_crossentropy' , optimizer= 'adam' , metrics=[ 'acc' ])\n",
    "print(model.summary())\n",
    "\n",
    "\n",
    "# fit model\n",
    "X, y = generate_examples(size, 5000)\n",
    "model.fit(X, y, batch_size=32, epochs=1)\n",
    "\n",
    "\n",
    "# evaluate model\n",
    "X, y = generate_examples(size, 100)\n",
    "loss, acc = model.evaluate(X, y, verbose=0)\n",
    "print( 'loss: %f, acc: %f' % (loss, acc*100))\n",
    "\n",
    "\n",
    "# prediction on new data\n",
    "X, y = generate_examples(size, 1)\n",
    "yhat = model.predict_classes(X, verbose=0)\n",
    "expected = \"Right\" if y[0]==1 else \"Left\"\n",
    "predicted = \"Right\" if yhat[0]==1 else \"Left\"\n",
    "print( 'Expected: %s, Predicted: %s' % (expected, predicted))"
   ]
  },
  {
   "cell_type": "code",
   "execution_count": 4,
   "metadata": {},
   "outputs": [],
   "source": []
  }
 ],
 "metadata": {
  "kernelspec": {
   "display_name": "Python 3",
   "language": "python",
   "name": "python3"
  },
  "language_info": {
   "codemirror_mode": {
    "name": "ipython",
    "version": 3
   },
   "file_extension": ".py",
   "mimetype": "text/x-python",
   "name": "python",
   "nbconvert_exporter": "python",
   "pygments_lexer": "ipython3",
   "version": "3.7.6"
  }
 },
 "nbformat": 4,
 "nbformat_minor": 2
}
