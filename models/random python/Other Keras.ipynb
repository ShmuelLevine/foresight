{
 "cells": [
  {
   "cell_type": "code",
   "execution_count": 1,
   "metadata": {},
   "outputs": [],
   "source": [
    "from math import sin\n",
    "from math import pi\n",
    "from math import exp\n",
    "from random import random\n",
    "from random import randint\n",
    "from random import uniform\n",
    "from numpy import array\n",
    "%matplotlib inline\n",
    "from matplotlib import pyplot\n",
    "from tensorflow.keras.models import Sequential\n",
    "from tensorflow.keras.layers import LSTM\n",
    "from tensorflow.keras.layers import Dense\n",
    "from tensorflow.keras.layers import Bidirectional\n",
    "from tensorflow.keras.layers import TimeDistributed"
   ]
  },
  {
   "cell_type": "code",
   "execution_count": 2,
   "metadata": {},
   "outputs": [],
   "source": [
    "# generate damped sine wave in [0,1]\n",
    "def generate_sequence(length, period, decay):\n",
    " return [0.5 + 0.5 * sin(2 * pi * i / period) * exp(-decay * i) for i in range(length)]"
   ]
  },
  {
   "cell_type": "code",
   "execution_count": 3,
   "metadata": {},
   "outputs": [],
   "source": [
    "# generate input and output pairs of damped sine waves\n",
    "def generate_examples(length, n_patterns, output):\n",
    " X, y = list(), list()\n",
    " for _ in range(n_patterns):\n",
    "  p = randint(10, 20)\n",
    "  d = uniform(0.01, 0.1)\n",
    "  sequence = generate_sequence(length + output, p, d)\n",
    "  X.append(sequence[:-output])\n",
    "  y.append(sequence[-output:])\n",
    " X = array(X).reshape(n_patterns, length, 1)\n",
    " y = array(y).reshape(n_patterns, output)\n",
    " return X, y"
   ]
  },
  {
   "cell_type": "code",
   "execution_count": 4,
   "metadata": {},
   "outputs": [],
   "source": [
    "# configure problem\n",
    "length = 50\n",
    "output = 5"
   ]
  },
  {
   "cell_type": "markdown",
   "metadata": {},
   "source": [
    "# Define the model"
   ]
  },
  {
   "cell_type": "code",
   "execution_count": 5,
   "metadata": {},
   "outputs": [
    {
     "name": "stdout",
     "output_type": "stream",
     "text": [
      "Model: \"sequential\"\n",
      "_________________________________________________________________\n",
      "Layer (type)                 Output Shape              Param #   \n",
      "=================================================================\n",
      "bidirectional (Bidirectional (None, 50, 60)            7680      \n",
      "_________________________________________________________________\n",
      "bidirectional_1 (Bidirection (None, 50, 60)            21840     \n",
      "_________________________________________________________________\n",
      "bidirectional_2 (Bidirection (None, 50, 60)            21840     \n",
      "_________________________________________________________________\n",
      "bidirectional_3 (Bidirection (None, 60)                21840     \n",
      "_________________________________________________________________\n",
      "dense (Dense)                (None, 5)                 305       \n",
      "=================================================================\n",
      "Total params: 73,505\n",
      "Trainable params: 73,505\n",
      "Non-trainable params: 0\n",
      "_________________________________________________________________\n",
      "None\n"
     ]
    }
   ],
   "source": [
    "model = Sequential()\n",
    "model.add(Bidirectional(LSTM(30, return_sequences=True), input_shape=(length, 1), merge_mode='concat'))\n",
    "model.add(Bidirectional(LSTM(30, return_sequences=True), input_shape=(length, 1), merge_mode='concat'))\n",
    "model.add(Bidirectional(LSTM(30, return_sequences=True), input_shape=(length, 1), merge_mode='concat'))\n",
    "model.add(Bidirectional(LSTM(30), input_shape=(length,1)))\n",
    "model.add(Dense(output))\n",
    "model.compile(loss= 'mae' , optimizer= 'adam' )\n",
    "#model.build()\n",
    "print(model.summary())"
   ]
  },
  {
   "cell_type": "code",
   "execution_count": 9,
   "metadata": {},
   "outputs": [
    {
     "name": "stdout",
     "output_type": "stream",
     "text": [
      "Train on 15000 samples\n",
      "Epoch 1/15\n",
      "15000/15000 [==============================] - 22s 1ms/sample - loss: 0.0076\n",
      "Epoch 2/15\n",
      "15000/15000 [==============================] - 22s 1ms/sample - loss: 0.0061\n",
      "Epoch 3/15\n",
      "15000/15000 [==============================] - 22s 1ms/sample - loss: 0.0048\n",
      "Epoch 4/15\n",
      "15000/15000 [==============================] - 22s 1ms/sample - loss: 0.0044\n",
      "Epoch 5/15\n",
      "15000/15000 [==============================] - 22s 1ms/sample - loss: 0.0043\n",
      "Epoch 6/15\n",
      "15000/15000 [==============================] - 23s 2ms/sample - loss: 0.0037\n",
      "Epoch 7/15\n",
      "15000/15000 [==============================] - 22s 1ms/sample - loss: 0.0033\n",
      "Epoch 8/15\n",
      "15000/15000 [==============================] - 23s 2ms/sample - loss: 0.0031\n",
      "Epoch 9/15\n",
      "15000/15000 [==============================] - 22s 1ms/sample - loss: 0.0031\n",
      "Epoch 10/15\n",
      "15000/15000 [==============================] - 22s 1ms/sample - loss: 0.0028\n",
      "Epoch 11/15\n",
      "15000/15000 [==============================] - 22s 1ms/sample - loss: 0.0027\n",
      "Epoch 12/15\n",
      "15000/15000 [==============================] - 22s 1ms/sample - loss: 0.0026\n",
      "Epoch 13/15\n",
      "15000/15000 [==============================] - 21s 1ms/sample - loss: 0.0026\n",
      "Epoch 14/15\n",
      "15000/15000 [==============================] - 19s 1ms/sample - loss: 0.0027\n",
      "Epoch 15/15\n",
      "15000/15000 [==============================] - 21s 1ms/sample - loss: 0.0023\n"
     ]
    }
   ],
   "source": [
    "# fit model\n",
    "X, y = generate_examples(length, 15000, output)\n",
    "history = model.fit(X, y, batch_size=32, epochs=15)\n"
   ]
  },
  {
   "cell_type": "code",
   "execution_count": 10,
   "metadata": {},
   "outputs": [
    {
     "name": "stdout",
     "output_type": "stream",
     "text": [
      "MAE 0.002367:\n"
     ]
    }
   ],
   "source": [
    "# evaluate model\n",
    "X, y = generate_examples(length, 1000, output)\n",
    "loss = model.evaluate(X, y, verbose=0)\n",
    "print( 'MAE %f:' % loss)"
   ]
  },
  {
   "cell_type": "code",
   "execution_count": 16,
   "metadata": {},
   "outputs": [
    {
     "data": {
      "image/png": "[encoded data removed]",
      "text/plain": [
       "<Figure size 432x288 with 1 Axes>"
      ]
     },
     "metadata": {
      "needs_background": "light"
     },
     "output_type": "display_data"
    }
   ],
   "source": [
    "# prediction on new data\n",
    "X, y = generate_examples(length, 1, output)\n",
    "yhat = model.predict(X, verbose=0)\n",
    "pyplot.plot(y[0], label='y' )\n",
    "pyplot.plot(yhat[0], label='yhat' )\n",
    "pyplot.legend()\n",
    "pyplot.show()"
   ]
  }
 ],
 "metadata": {
  "kernelspec": {
   "display_name": "Python 3",
   "language": "python",
   "name": "python3"
  },
  "language_info": {
   "codemirror_mode": {
    "name": "ipython",
    "version": 3
   },
   "file_extension": ".py",
   "mimetype": "text/x-python",
   "name": "python",
   "nbconvert_exporter": "python",
   "pygments_lexer": "ipython3",
   "version": "3.7.6"
  }
 },
 "nbformat": 4,
 "nbformat_minor": 4
}
