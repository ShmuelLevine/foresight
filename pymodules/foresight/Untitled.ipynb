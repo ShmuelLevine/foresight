{
 "cells": [
  {
   "cell_type": "code",
   "execution_count": 109,
   "metadata": {},
   "outputs": [],
   "source": [
    "import importlib\n",
    "import foresight.model\n",
    "import foresight.data_functions as fx_df\n",
    "importlib.reload(foresight.model)\n",
    "importlib.reload(fx_df)\n",
    "import numpy as np\n",
    "\n",
    "import sklearn.preprocessing as skpp"
   ]
  },
  {
   "cell_type": "code",
   "execution_count": 84,
   "metadata": {},
   "outputs": [],
   "source": [
    "data = np.random.random(200)#[0]\n",
    "d2 = np.random.random(500)#[0]\n",
    "#print(data)\n",
    "\n",
    "in_, out_ = fx_df.series_to_supervised(data, n_in=4, n_out=1)\n",
    "\n",
    "#print(in_)\n",
    "#print(\"\\n\")\n",
    "#print(out_)\n",
    "\n",
    "idx = 2\n",
    "\n",
    "out_[idx] = np.array([25])\n",
    "#print(\"\\n\")\n",
    "#print(out_)"
   ]
  },
  {
   "cell_type": "code",
   "execution_count": 85,
   "metadata": {},
   "outputs": [],
   "source": [
    "#scaler_ = skpp.MinMaxScaler((-1, 1))\n",
    "\n",
    "txr = fx_df.Data_Transformer(transform = 'LogDiff', remove_outliers = True)\n",
    "\n",
    "#    def __init__(    self, \n",
    "#                     transform=None,\n",
    "#                     remove_outliers=False,\n",
    "#                     scaler='MinMaxScaler')\n",
    "#def data_transformer(data,\n",
    "#                     transform=None,\n",
    "#                     remove_outliers=False,\n",
    "#                     scaler='MinMaxScaler'):\n"
   ]
  },
  {
   "cell_type": "code",
   "execution_count": 86,
   "metadata": {},
   "outputs": [],
   "source": [
    "d1, scaler_ = txr(data)"
   ]
  },
  {
   "cell_type": "code",
   "execution_count": 44,
   "metadata": {},
   "outputs": [],
   "source": [
    "txr2 = fx_df.Data_Transformer(transform = 'LogDiff', remove_outliers = True, scaler = scaler_)\n",
    "d2a,_ = txr2(d2)"
   ]
  },
  {
   "cell_type": "code",
   "execution_count": 45,
   "metadata": {},
   "outputs": [
    {
     "name": "stdout",
     "output_type": "stream",
     "text": [
      "[0.50581367 0.48464359 0.09488445 0.36113847 0.58265267 0.24960819\n",
      " 0.46478924 0.29168865 0.14370979 0.90173351]\n",
      "\n",
      "\n",
      "[[-0.02853641]\n",
      " [ 1.07997854]\n",
      " [ 1.07997854]\n",
      " [ 0.39023129]\n",
      " [-0.6754271 ]\n",
      " [ 0.50544354]\n",
      " [-0.36859343]\n",
      " [-0.56307109]\n",
      " [-0.04754586]\n",
      " [-0.04754586]]\n"
     ]
    }
   ],
   "source": [
    "print(d2[:10])\n",
    "print('\\n')\n",
    "print(d2a[:10])"
   ]
  },
  {
   "cell_type": "code",
   "execution_count": 57,
   "metadata": {},
   "outputs": [],
   "source": [
    "dd1i, dd1o = fx_df.series_to_supervised(data = d1,\n",
    "                         n_in=20,\n",
    "                         n_out=1,\n",
    "                         dropnan=True,\n",
    "                         separate_output_series=True)\n",
    "\n",
    "dd2i, dd2o = fx_df.series_to_supervised(data = d2,\n",
    "                         n_in=20,\n",
    "                         n_out=1,\n",
    "                         dropnan=True,\n",
    "                         separate_output_series=True)\n",
    "\n",
    "dd1i = dd1i.reshape(\n",
    "            (dd1i.shape[0], 20, 1))\n",
    "dd1o = dd1o.reshape((-1, 1))\n",
    "__oldest_datum = 0"
   ]
  },
  {
   "cell_type": "code",
   "execution_count": 75,
   "metadata": {},
   "outputs": [
    {
     "name": "stdout",
     "output_type": "stream",
     "text": [
      "179\n",
      "20\n",
      "[161 162 163 164 165 166 167 168 169 170 171 172 173 174 175 176 177 178\n",
      "   0   1]\n"
     ]
    }
   ],
   "source": [
    "dd2i = dd2i.reshape(\n",
    "            (dd2i.shape[0], 20, 1))[:20]\n",
    "dd2o = dd2o.reshape((-1, 1))\n",
    "\n",
    "num_samples = dd1i.shape[0]\n",
    "new_samples = dd2i.shape[0]\n",
    "\n",
    "#print (dd1i)\n",
    "\n",
    "print(num_samples)\n",
    "print(new_samples)\n",
    "\n",
    "\n",
    "if new_samples > num_samples:\n",
    "    dd3i = dd2i[-num_samples:]\n",
    "else:\n",
    "    indices = np.arange(__oldest_datum, new_samples + __oldest_datum) % num_samples\n",
    "    for i_src, i_tgt in enumerate(indices):\n",
    "        dd3i[i_tgt] = dd2i[i_src]\n",
    "    __oldest_datum += new_samples\n",
    "    print (indices)\n",
    "\n",
    "#print(dd3i)"
   ]
  },
  {
   "cell_type": "code",
   "execution_count": 77,
   "metadata": {},
   "outputs": [
    {
     "name": "stdout",
     "output_type": "stream",
     "text": [
      "0 354\n",
      "355 709\n",
      "710 1064\n",
      "1065 1419\n",
      "1420 1490\n"
     ]
    }
   ],
   "source": [
    "cur = 0\n",
    "tot = 1490\n",
    "rf = 355\n",
    "\n",
    "idx = range(0, tot, rf)\n",
    "for n in idx:\n",
    "    print(n, n+rf -1 if n + rf -1 <= tot else tot)"
   ]
  },
  {
   "cell_type": "code",
   "execution_count": 131,
   "metadata": {},
   "outputs": [
    {
     "name": "stdout",
     "output_type": "stream",
     "text": [
      "[ 1  2  3  4  5  6  7  8  9 10 11 12 13 14 15 16 17 18 19 20 21 22 23 24\n",
      " 25 26 27 28 29 30 31 32 33 34 35 36 37 38 39 40 41 42 43 44 45 46 47 48\n",
      " 49 50 51 52 53 54 55 56 57 58 59 60 61 62 63 64 65 66 67 68 69 70 71 72\n",
      " 73 74 75 76 77 78 79 80 81 82 83 84 85 86 87 88 89 90 91 92 93 94 95 96\n",
      " 97 98 99]\n",
      "38\n",
      "62\n",
      "[0.01626052 0.01600034 0.01574836 0.01550419 0.01526747 0.01503788\n",
      " 0.01481509 0.0145988  0.01438874 0.01418463]\n",
      "[62. 63. 64. 65. 66. 67. 68. 69. 70. 71.]\n",
      "[62.]\n",
      "[[0.01626052]\n",
      " [0.01600034]\n",
      " [0.01574836]\n",
      " [0.01550419]\n",
      " [0.01526747]\n",
      " [0.01503788]\n",
      " [0.01481509]\n",
      " [0.0145988 ]\n",
      " [0.01438874]\n",
      " [0.01418463]\n",
      " [0.01398624]\n",
      " [0.01379332]\n",
      " [0.01360565]\n",
      " [0.01342302]\n",
      " [0.01324523]\n",
      " [0.01307208]\n",
      " [0.0129034 ]\n",
      " [0.01273903]\n",
      " [0.01257878]\n",
      " [0.01242252]\n",
      " [0.01227009]\n",
      " [0.01212136]\n",
      " [0.01197619]\n",
      " [0.01183446]\n",
      " [0.01169604]\n",
      " [0.01156082]\n",
      " [0.0114287 ]\n",
      " [0.01129956]\n",
      " [0.0111733 ]\n",
      " [0.01104984]\n",
      " [0.01092907]\n",
      " [0.01081092]\n",
      " [0.01069529]\n",
      " [0.01058211]\n",
      " [0.0104713 ]\n",
      " [0.01036279]\n",
      " [0.0102565 ]\n",
      " [0.01015237]] [[1.01639344]\n",
      " [1.01612903]\n",
      " [1.01587302]\n",
      " [1.015625  ]\n",
      " [1.01538462]\n",
      " [1.01515152]\n",
      " [1.01492537]\n",
      " [1.01470588]\n",
      " [1.01449275]\n",
      " [1.01428571]\n",
      " [1.01408451]\n",
      " [1.01388889]\n",
      " [1.01369863]\n",
      " [1.01351351]\n",
      " [1.01333333]\n",
      " [1.01315789]\n",
      " [1.01298701]\n",
      " [1.01282051]\n",
      " [1.01265823]\n",
      " [1.0125    ]\n",
      " [1.01234568]\n",
      " [1.01219512]\n",
      " [1.01204819]\n",
      " [1.01190476]\n",
      " [1.01176471]\n",
      " [1.01162791]\n",
      " [1.01149425]\n",
      " [1.01136364]\n",
      " [1.01123596]\n",
      " [1.01111111]\n",
      " [1.01098901]\n",
      " [1.01086957]\n",
      " [1.01075269]\n",
      " [1.0106383 ]\n",
      " [1.01052632]\n",
      " [1.01041667]\n",
      " [1.01030928]\n",
      " [1.01020408]]\n"
     ]
    }
   ],
   "source": [
    "my_data = np.arange(1,100)\n",
    "txr1 = fx_df.Data_Transformer(transform = 'LogDiff', remove_outliers = True)\n",
    "d1, scaler_ = txr1(my_data)\n",
    "in_, out_ = fx_df.series_to_supervised(d1, n_in=60, n_out=1)\n",
    "\n",
    "print(my_data)\n",
    "#print(out_)\n",
    "print (len(out_))\n",
    "#print(out_[0])\n",
    "#print(out_[0].reshape(-1,1))\n",
    "print(my_data[61])\n",
    "o1 = txr1.Invert(out_)\n",
    "o2 = np.exp(o1)\n",
    "#print(o1)\n",
    "#print(o2)\n",
    "\n",
    "x00 = np.array(range(61,100))\n",
    "x01 = np.log(x00)\n",
    "x02 = x01[1:] - x01[:-1]\n",
    "print(x02[:10])\n",
    "#print(x00, x01, x01[1:] - x01[:-1])\n",
    "\n",
    "x03 = x02 + x01[:-1]\n",
    "print(np.exp(x03[:10]))\n",
    "\n",
    "x0 = txr1.Invert(out_)\n",
    "x1 = np.exp(x0)\n",
    "\n",
    "print (61 * x1[0])\n",
    "print (x0, x1)\n"
   ]
  },
  {
   "cell_type": "code",
   "execution_count": 132,
   "metadata": {},
   "outputs": [
    {
     "ename": "NameError",
     "evalue": "name 'self' is not defined",
     "output_type": "error",
     "traceback": [
      "\u001b[0;31m---------------------------------------------------------------------------\u001b[0m",
      "\u001b[0;31mNameError\u001b[0m                                 Traceback (most recent call last)",
      "\u001b[0;32m<ipython-input-132-7c2279f717fa>\u001b[0m in \u001b[0;36m<module>\u001b[0;34m\u001b[0m\n\u001b[1;32m      3\u001b[0m \u001b[0mtotal_data\u001b[0m \u001b[0;34m=\u001b[0m \u001b[0mout_\u001b[0m\u001b[0;34m.\u001b[0m\u001b[0mshape\u001b[0m\u001b[0;34m[\u001b[0m\u001b[0;36m0\u001b[0m\u001b[0;34m]\u001b[0m\u001b[0;34m\u001b[0m\u001b[0;34m\u001b[0m\u001b[0m\n\u001b[1;32m      4\u001b[0m \u001b[0;34m\u001b[0m\u001b[0m\n\u001b[0;32m----> 5\u001b[0;31m \u001b[0mlast_idx\u001b[0m \u001b[0;34m=\u001b[0m \u001b[0mstart_idx\u001b[0m \u001b[0;34m+\u001b[0m \u001b[0mretrain_freq\u001b[0m \u001b[0;34m-\u001b[0m\u001b[0;36m1\u001b[0m \u001b[0;32mif\u001b[0m \u001b[0mstart_idx\u001b[0m \u001b[0;34m+\u001b[0m \u001b[0mself\u001b[0m\u001b[0;34m.\u001b[0m\u001b[0mretrain_freq\u001b[0m \u001b[0;34m-\u001b[0m\u001b[0;36m1\u001b[0m \u001b[0;34m<=\u001b[0m \u001b[0mtotal_data\u001b[0m \u001b[0;32melse\u001b[0m \u001b[0mtotal_data\u001b[0m\u001b[0;34m\u001b[0m\u001b[0;34m\u001b[0m\u001b[0m\n\u001b[0m\u001b[1;32m      6\u001b[0m \u001b[0my_hat\u001b[0m \u001b[0;34m=\u001b[0m \u001b[0mself\u001b[0m\u001b[0;34m.\u001b[0m\u001b[0m_model\u001b[0m\u001b[0;34m.\u001b[0m\u001b[0mForecast\u001b[0m\u001b[0;34m(\u001b[0m\u001b[0m_ins\u001b[0m\u001b[0;34m[\u001b[0m\u001b[0mstart_idx\u001b[0m\u001b[0;34m:\u001b[0m\u001b[0mlast_idx\u001b[0m\u001b[0;34m]\u001b[0m\u001b[0;34m)\u001b[0m\u001b[0;34m\u001b[0m\u001b[0;34m\u001b[0m\u001b[0m\n\u001b[1;32m      7\u001b[0m \u001b[0my_hat_unscaled\u001b[0m \u001b[0;34m=\u001b[0m \u001b[0mtxn\u001b[0m\u001b[0;34m.\u001b[0m\u001b[0minverse_transform\u001b[0m\u001b[0;34m(\u001b[0m\u001b[0my_hat\u001b[0m\u001b[0;34m)\u001b[0m\u001b[0;34m\u001b[0m\u001b[0;34m\u001b[0m\u001b[0m\n",
      "\u001b[0;31mNameError\u001b[0m: name 'self' is not defined"
     ]
    }
   ],
   "source": [
    "start_idx = 0\n",
    "retrain_freq = 2000\n",
    "total_data = out_.shape[0]\n",
    "\n",
    "last_idx = start_idx + retrain_freq -1 if start_idx + self.retrain_freq -1 <= total_data else total_data\n",
    "y_hat = self._model.Forecast(_ins[start_idx:last_idx])\n",
    "y_hat_unscaled = txn.inverse_transform(y_hat)\n",
    "bid_hat = np.exp(y_hat) * self._data.iloc[start_idx + idx_offset - 1 : last_idx + idx_offset - 1]"
   ]
  },
  {
   "cell_type": "code",
   "execution_count": null,
   "metadata": {},
   "outputs": [],
   "source": [
    "Reinforcement of hummingbird squash is in fox light\n"
   ]
  }
 ],
 "metadata": {
  "kernelspec": {
   "display_name": "Python 3",
   "language": "python",
   "name": "python3"
  },
  "language_info": {
   "codemirror_mode": {
    "name": "ipython",
    "version": 3
   },
   "file_extension": ".py",
   "mimetype": "text/x-python",
   "name": "python",
   "nbconvert_exporter": "python",
   "pygments_lexer": "ipython3",
   "version": "3.8.3"
  }
 },
 "nbformat": 4,
 "nbformat_minor": 4
}
